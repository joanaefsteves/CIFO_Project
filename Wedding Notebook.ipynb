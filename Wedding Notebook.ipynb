{
 "cells": [
  {
   "cell_type": "code",
   "execution_count": 1,
   "id": "9d08f7f6",
   "metadata": {},
   "outputs": [],
   "source": [
    "import pandas as pd\n",
    "from library.genetic_algorithms.grid_search import grid_search\n",
    "from library.genetic_algorithms.mutation import swap_mutation\n",
    "from library.genetic_algorithms.crossover import cycle_crossover, one_point_crossover\n",
    "from library.genetic_algorithms.selection import fitness_proportionate_selection, ranking_selection, tournament_selection"
   ]
  },
  {
   "cell_type": "code",
   "execution_count": 2,
   "id": "daee9637",
   "metadata": {},
   "outputs": [],
   "source": [
    "seating_data= pd.read_csv(\"seating_data.csv\", index_col=0)"
   ]
  },
  {
   "cell_type": "code",
   "execution_count": 3,
   "id": "b867c248",
   "metadata": {},
   "outputs": [],
   "source": [
    "relationships_mtx=seating_data.to_numpy()"
   ]
  },
  {
   "cell_type": "code",
   "execution_count": 4,
   "id": "25652482",
   "metadata": {},
   "outputs": [
    {
     "data": {
      "text/plain": [
       "array([[   0, 5000,    0, ...,    0,    0,    0],\n",
       "       [5000,    0,  700, ...,    0,    0,    0],\n",
       "       [   0,  700,    0, ...,    0,    0,    0],\n",
       "       ...,\n",
       "       [   0,    0,    0, ...,    0,  700,  700],\n",
       "       [   0,    0,    0, ...,  700,    0,  900],\n",
       "       [   0,    0,    0, ...,  700,  900,    0]])"
      ]
     },
     "execution_count": 4,
     "metadata": {},
     "output_type": "execute_result"
    }
   ],
   "source": [
    "relationships_mtx"
   ]
  },
  {
   "cell_type": "code",
   "execution_count": null,
   "id": "5e86f96d",
   "metadata": {},
   "outputs": [],
   "source": [
    "''''\n",
    "results = grid_search(\n",
    "    relations_mtx=relationships_mtx,\n",
    "    mutation_functions=[swap_mutation],\n",
    "    crossover_functions=[one_point_crossover],\n",
    "    selection_functions=[tournament_selection, fitness_proportionate_selection, ranking_selection],\n",
    "    elitism=[0, 1],\n",
    ")\n",
    "'''"
   ]
  },
  {
   "cell_type": "code",
   "execution_count": 4,
   "id": "1c57c193",
   "metadata": {},
   "outputs": [
    {
     "ename": "AttributeError",
     "evalue": "'float' object has no attribute 'iloc'",
     "output_type": "error",
     "traceback": [
      "\u001b[0;31m---------------------------------------------------------------------------\u001b[0m",
      "\u001b[0;31mAttributeError\u001b[0m                            Traceback (most recent call last)",
      "Cell \u001b[0;32mIn[4], line 3\u001b[0m\n\u001b[1;32m      1\u001b[0m \u001b[38;5;66;03m# Testing grid search code \u001b[39;00m\n\u001b[0;32m----> 3\u001b[0m results \u001b[38;5;241m=\u001b[39m \u001b[43mgrid_search\u001b[49m\u001b[43m(\u001b[49m\n\u001b[1;32m      4\u001b[0m \u001b[43m    \u001b[49m\u001b[43mrelations_mtx\u001b[49m\u001b[38;5;241;43m=\u001b[39;49m\u001b[43mrelationships_mtx\u001b[49m\u001b[43m,\u001b[49m\n\u001b[1;32m      5\u001b[0m \u001b[43m    \u001b[49m\u001b[43mmutation_functions\u001b[49m\u001b[38;5;241;43m=\u001b[39;49m\u001b[43m[\u001b[49m\u001b[43mswap_mutation\u001b[49m\u001b[43m]\u001b[49m\u001b[43m,\u001b[49m\n\u001b[1;32m      6\u001b[0m \u001b[43m    \u001b[49m\u001b[43mcrossover_functions\u001b[49m\u001b[38;5;241;43m=\u001b[39;49m\u001b[43m[\u001b[49m\u001b[43mone_point_crossover\u001b[49m\u001b[43m]\u001b[49m\u001b[43m,\u001b[49m\n\u001b[1;32m      7\u001b[0m \u001b[43m    \u001b[49m\u001b[43mselection_functions\u001b[49m\u001b[38;5;241;43m=\u001b[39;49m\u001b[43m[\u001b[49m\u001b[43mfitness_proportionate_selection\u001b[49m\u001b[43m]\u001b[49m\u001b[43m,\u001b[49m\n\u001b[1;32m      8\u001b[0m \u001b[43m    \u001b[49m\u001b[43melitism\u001b[49m\u001b[38;5;241;43m=\u001b[39;49m\u001b[43m[\u001b[49m\u001b[38;5;241;43m0\u001b[39;49m\u001b[43m]\u001b[49m\n\u001b[1;32m      9\u001b[0m \u001b[43m)\u001b[49m\n",
      "File \u001b[0;32m~/Desktop/MDSAA-DS/S2/CIFO/CIFO_Project/library/genetic_algorithms/grid_search.py:153\u001b[0m, in \u001b[0;36mgrid_search\u001b[0;34m(relations_mtx, mutation_functions, crossover_functions, selection_functions, elitism, pop_size, generations, runs, verbose)\u001b[0m\n\u001b[1;32m    143\u001b[0m         writer\u001b[38;5;241m.\u001b[39mwriterow([\n\u001b[1;32m    144\u001b[0m             mutation\u001b[38;5;241m.\u001b[39m\u001b[38;5;18m__name__\u001b[39m,\n\u001b[1;32m    145\u001b[0m             crossover\u001b[38;5;241m.\u001b[39m\u001b[38;5;18m__name__\u001b[39m,\n\u001b[0;32m   (...)\u001b[0m\n\u001b[1;32m    149\u001b[0m             avg_fitness\n\u001b[1;32m    150\u001b[0m         ])\n\u001b[1;32m    152\u001b[0m \u001b[38;5;66;03m# Get average fitness of last generation for current combination\u001b[39;00m\n\u001b[0;32m--> 153\u001b[0m last_gen_avg_fitness \u001b[38;5;241m=\u001b[39m \u001b[43mavg_fitness\u001b[49m\u001b[38;5;241;43m.\u001b[39;49m\u001b[43miloc\u001b[49m[\u001b[38;5;241m-\u001b[39m\u001b[38;5;241m1\u001b[39m]\n\u001b[1;32m    155\u001b[0m \u001b[38;5;28;01mif\u001b[39;00m verbose:\n\u001b[1;32m    156\u001b[0m     \u001b[38;5;28mprint\u001b[39m(\u001b[38;5;124mf\u001b[39m\u001b[38;5;124m\"\u001b[39m\u001b[38;5;124mLast generation average fitness = \u001b[39m\u001b[38;5;132;01m{\u001b[39;00mlast_gen_avg_fitness\u001b[38;5;132;01m}\u001b[39;00m\u001b[38;5;124m\"\u001b[39m)\n",
      "\u001b[0;31mAttributeError\u001b[0m: 'float' object has no attribute 'iloc'"
     ]
    }
   ],
   "source": [
    "# Testing grid search code \n",
    "\n",
    "results = grid_search(\n",
    "    relations_mtx=relationships_mtx,\n",
    "    mutation_functions=[swap_mutation],\n",
    "    crossover_functions=[one_point_crossover],\n",
    "    selection_functions=[fitness_proportionate_selection],\n",
    "    elitism=[0]\n",
    ")"
   ]
  },
  {
   "cell_type": "markdown",
   "id": "658671de",
   "metadata": {},
   "source": [
    "Each run takes around 1 min:\n",
    "- We have 72 combinations * 30 runs for each = 2160 min = 36 hours\n",
    "- Try to parallelize code for 8 cores -> 4.5 hours"
   ]
  },
  {
   "cell_type": "code",
   "execution_count": 5,
   "id": "d10ac9d5",
   "metadata": {},
   "outputs": [
    {
     "ename": "NameError",
     "evalue": "name 'results' is not defined",
     "output_type": "error",
     "traceback": [
      "\u001b[0;31m---------------------------------------------------------------------------\u001b[0m",
      "\u001b[0;31mNameError\u001b[0m                                 Traceback (most recent call last)",
      "Cell \u001b[0;32mIn[5], line 1\u001b[0m\n\u001b[0;32m----> 1\u001b[0m \u001b[38;5;28mprint\u001b[39m(\u001b[43mresults\u001b[49m)\n",
      "\u001b[0;31mNameError\u001b[0m: name 'results' is not defined"
     ]
    }
   ],
   "source": [
    "print(results)"
   ]
  }
 ],
 "metadata": {
  "kernelspec": {
   "display_name": "nel_2025_env_full",
   "language": "python",
   "name": "python3"
  },
  "language_info": {
   "codemirror_mode": {
    "name": "ipython",
    "version": 3
   },
   "file_extension": ".py",
   "mimetype": "text/x-python",
   "name": "python",
   "nbconvert_exporter": "python",
   "pygments_lexer": "ipython3",
   "version": "3.12.7"
  }
 },
 "nbformat": 4,
 "nbformat_minor": 5
}
