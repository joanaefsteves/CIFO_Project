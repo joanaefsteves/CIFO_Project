{
 "cells": [
  {
   "cell_type": "code",
   "execution_count": 1,
   "id": "9d08f7f6",
   "metadata": {},
   "outputs": [],
   "source": [
    "# General imports\n",
    "import pandas as pd\n",
    "\n",
    "# Grid search\n",
    "from library.genetic_algorithms.grid_search_parallelized import grid_search_par\n",
    "from library.genetic_algorithms.mutation import swap_mutation, inversion_mutation, heuristic_mutation, misfit_mutation\n",
    "from library.genetic_algorithms.crossover import cycle_crossover, one_point_crossover, uniform_crossover, geometric_crossover\n",
    "from library.genetic_algorithms.selection import fitness_proportionate_selection, ranking_selection, tournament_selection"
   ]
  },
  {
   "cell_type": "code",
   "execution_count": 2,
   "id": "daee9637",
   "metadata": {},
   "outputs": [],
   "source": [
    "seating_data= pd.read_csv(\"seating_data.csv\", index_col=0)"
   ]
  },
  {
   "cell_type": "code",
   "execution_count": 3,
   "id": "b867c248",
   "metadata": {},
   "outputs": [],
   "source": [
    "relationships_mtx=seating_data.to_numpy()"
   ]
  },
  {
   "cell_type": "code",
   "execution_count": 4,
   "id": "25652482",
   "metadata": {},
   "outputs": [
    {
     "data": {
      "text/plain": [
       "array([[   0, 5000,    0, ...,    0,    0,    0],\n",
       "       [5000,    0,  700, ...,    0,    0,    0],\n",
       "       [   0,  700,    0, ...,    0,    0,    0],\n",
       "       ...,\n",
       "       [   0,    0,    0, ...,    0,  700,  700],\n",
       "       [   0,    0,    0, ...,  700,    0,  900],\n",
       "       [   0,    0,    0, ...,  700,  900,    0]], dtype=int64)"
      ]
     },
     "execution_count": 4,
     "metadata": {},
     "output_type": "execute_result"
    }
   ],
   "source": [
    "relationships_mtx"
   ]
  },
  {
   "cell_type": "markdown",
   "id": "1450a18d",
   "metadata": {},
   "source": [
    "# Experiment with different mutation, crossover and selection methods"
   ]
  },
  {
   "cell_type": "markdown",
   "id": "3db9f0f6",
   "metadata": {},
   "source": [
    "## Fixed hyperparameters:\n",
    "- population size = 100\n",
    "- max generations = 100\n",
    "- crossover probability = 0.9\n",
    "- mutation probability = 0.1\n",
    "- when selection method is tournment: tournment size = 3"
   ]
  },
  {
   "cell_type": "code",
   "execution_count": 5,
   "id": "1c57c193",
   "metadata": {},
   "outputs": [
    {
     "data": {
      "text/plain": [
       "[{'mutation': 'heuristic_mutation',\n",
       "  'crossover': 'geometric_crossover',\n",
       "  'selection': 'tournament_selection',\n",
       "  'elitism': 1,\n",
       "  'last_gen_avg_fitness': 77826.66666666667,\n",
       "  'solution_highest_fitness': <library.SA_problem.seating_arrangement.SASolution at 0x2be26325f10>,\n",
       "  'execution_time': 24.1792733669281}]"
      ]
     },
     "execution_count": 5,
     "metadata": {},
     "output_type": "execute_result"
    }
   ],
   "source": [
    "# Testing grid search code \n",
    "\n",
    "results = grid_search_par(\n",
    "    relations_mtx=relationships_mtx,\n",
    "    mutation_functions=[swap_mutation, inversion_mutation, heuristic_mutation, misfit_mutation],\n",
    "    crossover_functions=[cycle_crossover, one_point_crossover, uniform_crossover, geometric_crossover],\n",
    "    selection_functions=[fitness_proportionate_selection, ranking_selection, tournament_selection],\n",
    ")\n",
    "\n",
    "results #results is empty, therefore nothing is printed"
   ]
  },
  {
   "cell_type": "markdown",
   "id": "658671de",
   "metadata": {},
   "source": [
    "Each combination (w/ 30 runs) takes around 6 min.\n",
    "- 48 combinations: 4.8 h."
   ]
  },
  {
   "cell_type": "code",
   "execution_count": 6,
   "id": "86cc7891",
   "metadata": {},
   "outputs": [
    {
     "data": {
      "text/html": [
       "<style type=\"text/css\">\n",
       "#T_bbebe th {\n",
       "  text-align: center;\n",
       "}\n",
       "#T_bbebe_row0_col0, #T_bbebe_row0_col1, #T_bbebe_row0_col2, #T_bbebe_row0_col3, #T_bbebe_row0_col4, #T_bbebe_row0_col5, #T_bbebe_row0_col6 {\n",
       "  text-align: center;\n",
       "}\n",
       "</style>\n",
       "<table id=\"T_bbebe\">\n",
       "  <thead>\n",
       "    <tr>\n",
       "      <th class=\"blank level0\" >&nbsp;</th>\n",
       "      <th id=\"T_bbebe_level0_col0\" class=\"col_heading level0 col0\" >mutation</th>\n",
       "      <th id=\"T_bbebe_level0_col1\" class=\"col_heading level0 col1\" >crossover</th>\n",
       "      <th id=\"T_bbebe_level0_col2\" class=\"col_heading level0 col2\" >selection</th>\n",
       "      <th id=\"T_bbebe_level0_col3\" class=\"col_heading level0 col3\" >elitism</th>\n",
       "      <th id=\"T_bbebe_level0_col4\" class=\"col_heading level0 col4\" >last_gen_avg_fitness</th>\n",
       "      <th id=\"T_bbebe_level0_col5\" class=\"col_heading level0 col5\" >solution_highest_fitness</th>\n",
       "      <th id=\"T_bbebe_level0_col6\" class=\"col_heading level0 col6\" >execution_time</th>\n",
       "    </tr>\n",
       "  </thead>\n",
       "  <tbody>\n",
       "    <tr>\n",
       "      <th id=\"T_bbebe_level0_row0\" class=\"row_heading level0 row0\" >0</th>\n",
       "      <td id=\"T_bbebe_row0_col0\" class=\"data row0 col0\" >heuristic_mutation</td>\n",
       "      <td id=\"T_bbebe_row0_col1\" class=\"data row0 col1\" >geometric_crossover</td>\n",
       "      <td id=\"T_bbebe_row0_col2\" class=\"data row0 col2\" >tournament_selection</td>\n",
       "      <td id=\"T_bbebe_row0_col3\" class=\"data row0 col3\" >1</td>\n",
       "      <td id=\"T_bbebe_row0_col4\" class=\"data row0 col4\" >77826.667</td>\n",
       "      <td id=\"T_bbebe_row0_col5\" class=\"data row0 col5\" >Table 0: [28, 29, 30, 31, 32, 33, 34, 35]\n",
       "Table 1: [37, 38, 39, 40, 41, 42, 43, 49]\n",
       "Table 2: [44, 45, 48, 58, 60, 61, 62, 63]\n",
       "Table 3: [22, 23, 24, 25, 26, 27, 46, 47]\n",
       "Table 4: [50, 51, 52, 53, 54, 55, 56, 57]\n",
       "Table 5: [4, 5, 15, 16, 17, 18, 19, 20]\n",
       "Table 6: [10, 11, 12, 13, 14, 21, 36, 59]\n",
       "Table 7: [0, 1, 2, 3, 6, 7, 8, 9]\n",
       "</td>\n",
       "      <td id=\"T_bbebe_row0_col6\" class=\"data row0 col6\" >24.179</td>\n",
       "    </tr>\n",
       "  </tbody>\n",
       "</table>\n"
      ],
      "text/plain": [
       "<pandas.io.formats.style.Styler at 0x2be2465fcd0>"
      ]
     },
     "execution_count": 6,
     "metadata": {},
     "output_type": "execute_result"
    }
   ],
   "source": [
    "results_table1 = pd.DataFrame(results).style \\\n",
    "    .format(precision=3) \\\n",
    "    .set_properties(**{\"text-align\": \"center\"}) \\\n",
    "    .set_table_styles([{\n",
    "        \"selector\": \"th\",\n",
    "        \"props\": [(\"text-align\", \"center\")]\n",
    "    }])\n",
    "\n",
    "results_table1"
   ]
  },
  {
   "cell_type": "markdown",
   "id": "2fbfd7bf",
   "metadata": {},
   "source": [
    "# Experiment with different nr of elits for best mutation, crossover and selection method"
   ]
  },
  {
   "cell_type": "code",
   "execution_count": 7,
   "id": "2c8f60ec",
   "metadata": {},
   "outputs": [],
   "source": [
    "results = grid_search_par(\n",
    "    relations_mtx=relationships_mtx,\n",
    "    mutation_functions=[], # add best mutation\n",
    "    crossover_functions=[], # add best crossover\n",
    "    selection_functions=[], # add best selection\n",
    "    elitism=[0, 5]\n",
    ")"
   ]
  },
  {
   "cell_type": "markdown",
   "id": "24a305ad",
   "metadata": {},
   "source": [
    "Each combination (w/ 30 runs) takes around 6 min.\n",
    "- 2 combinations: 12 min."
   ]
  },
  {
   "cell_type": "code",
   "execution_count": 8,
   "id": "4bc0bf41",
   "metadata": {},
   "outputs": [
    {
     "data": {
      "text/html": [
       "<style type=\"text/css\">\n",
       "#T_11c33 th {\n",
       "  text-align: center;\n",
       "}\n",
       "</style>\n",
       "<table id=\"T_11c33\">\n",
       "  <thead>\n",
       "  </thead>\n",
       "  <tbody>\n",
       "  </tbody>\n",
       "</table>\n"
      ],
      "text/plain": [
       "<pandas.io.formats.style.Styler at 0x2be271ccf10>"
      ]
     },
     "execution_count": 8,
     "metadata": {},
     "output_type": "execute_result"
    }
   ],
   "source": [
    "results_table2 = pd.DataFrame(results).style \\\n",
    "    .format(precision=3) \\\n",
    "    .set_properties(**{\"text-align\": \"center\"}) \\\n",
    "    .set_table_styles([{\n",
    "        \"selector\": \"th\",\n",
    "        \"props\": [(\"text-align\", \"center\")]\n",
    "    }])\n",
    "\n",
    "results_table2"
   ]
  },
  {
   "cell_type": "markdown",
   "id": "44b6b205",
   "metadata": {},
   "source": [
    "# Plot average fitness per gen "
   ]
  },
  {
   "cell_type": "markdown",
   "id": "e823ffc2",
   "metadata": {},
   "source": [
    "# Performs statistical tests"
   ]
  },
  {
   "cell_type": "markdown",
   "id": "cba5fc06",
   "metadata": {},
   "source": [
    "# Calculate success rate"
   ]
  }
 ],
 "metadata": {
  "kernelspec": {
   "display_name": "base",
   "language": "python",
   "name": "python3"
  },
  "language_info": {
   "codemirror_mode": {
    "name": "ipython",
    "version": 3
   },
   "file_extension": ".py",
   "mimetype": "text/x-python",
   "name": "python",
   "nbconvert_exporter": "python",
   "pygments_lexer": "ipython3",
   "version": "3.11.7"
  }
 },
 "nbformat": 4,
 "nbformat_minor": 5
}
