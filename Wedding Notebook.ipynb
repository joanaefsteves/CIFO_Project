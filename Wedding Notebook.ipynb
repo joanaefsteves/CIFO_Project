{
 "cells": [
  {
   "cell_type": "code",
   "execution_count": null,
   "id": "9d08f7f6",
   "metadata": {},
   "outputs": [],
   "source": [
    "import pandas as pd\n",
    "from library.genetic_algorithms.grid_search import grid_search\n",
    "from library.genetic_algorithms.grid_search_parallelized import grid_search_par\n",
    "from library.genetic_algorithms.mutation import swap_mutation, inversion_mutation, heuristic_mutation\n",
    "from library.genetic_algorithms.crossover import cycle_crossover, one_point_crossover, uniform_crossover, geometric_crossover, multi_parent_crossover\n",
    "from library.genetic_algorithms.selection import fitness_proportionate_selection, ranking_selection, tournament_selection"
   ]
  },
  {
   "cell_type": "code",
   "execution_count": 2,
   "id": "daee9637",
   "metadata": {},
   "outputs": [],
   "source": [
    "seating_data= pd.read_csv(\"seating_data.csv\", index_col=0)"
   ]
  },
  {
   "cell_type": "code",
   "execution_count": 3,
   "id": "b867c248",
   "metadata": {},
   "outputs": [],
   "source": [
    "relationships_mtx=seating_data.to_numpy()"
   ]
  },
  {
   "cell_type": "code",
   "execution_count": 4,
   "id": "25652482",
   "metadata": {},
   "outputs": [
    {
     "data": {
      "text/plain": [
       "array([[   0, 5000,    0, ...,    0,    0,    0],\n",
       "       [5000,    0,  700, ...,    0,    0,    0],\n",
       "       [   0,  700,    0, ...,    0,    0,    0],\n",
       "       ...,\n",
       "       [   0,    0,    0, ...,    0,  700,  700],\n",
       "       [   0,    0,    0, ...,  700,    0,  900],\n",
       "       [   0,    0,    0, ...,  700,  900,    0]])"
      ]
     },
     "execution_count": 4,
     "metadata": {},
     "output_type": "execute_result"
    }
   ],
   "source": [
    "relationships_mtx"
   ]
  },
  {
   "cell_type": "code",
   "execution_count": null,
   "id": "5e86f96d",
   "metadata": {},
   "outputs": [],
   "source": [
    "''''\n",
    "results = grid_search(\n",
    "    relations_mtx=relationships_mtx,\n",
    "    mutation_functions=[swap_mutation],\n",
    "    crossover_functions=[one_point_crossover],\n",
    "    selection_functions=[tournament_selection, fitness_proportionate_selection, ranking_selection],\n",
    "    elitism=[0, 1],\n",
    ")\n",
    "'''"
   ]
  },
  {
   "cell_type": "code",
   "execution_count": 5,
   "id": "1c57c193",
   "metadata": {},
   "outputs": [],
   "source": [
    "# Testing grid search code \n",
    "\n",
    "results = grid_search_par(\n",
    "    relations_mtx=relationships_mtx,\n",
    "    mutation_functions=[swap_mutation],\n",
    "    crossover_functions=[one_point_crossover],\n",
    "    selection_functions=[fitness_proportionate_selection],\n",
    "    elitism=[0, 1]\n",
    ")"
   ]
  },
  {
   "cell_type": "markdown",
   "id": "658671de",
   "metadata": {},
   "source": [
    "Each combination (w/ 30 runs) takes around 6 min."
   ]
  },
  {
   "cell_type": "code",
   "execution_count": 15,
   "id": "5fcb8e28",
   "metadata": {},
   "outputs": [],
   "source": [
    "results_table = pd.DataFrame(results).style \\\n",
    "    .format(precision=3) \\\n",
    "    .set_properties(**{\"text-align\": \"center\"}) \\\n",
    "    .set_table_styles([{\n",
    "        \"selector\": \"th\",\n",
    "        \"props\": [(\"text-align\", \"center\")]\n",
    "    }])"
   ]
  },
  {
   "cell_type": "code",
   "execution_count": 17,
   "id": "86cc7891",
   "metadata": {},
   "outputs": [
    {
     "data": {
      "text/html": [
       "<style type=\"text/css\">\n",
       "#T_5dd32 th {\n",
       "  text-align: center;\n",
       "}\n",
       "#T_5dd32_row0_col0, #T_5dd32_row0_col1, #T_5dd32_row0_col2, #T_5dd32_row0_col3, #T_5dd32_row0_col4, #T_5dd32_row0_col5, #T_5dd32_row1_col0, #T_5dd32_row1_col1, #T_5dd32_row1_col2, #T_5dd32_row1_col3, #T_5dd32_row1_col4, #T_5dd32_row1_col5 {\n",
       "  text-align: center;\n",
       "}\n",
       "</style>\n",
       "<table id=\"T_5dd32\">\n",
       "  <thead>\n",
       "    <tr>\n",
       "      <th class=\"blank level0\" >&nbsp;</th>\n",
       "      <th id=\"T_5dd32_level0_col0\" class=\"col_heading level0 col0\" >mutation</th>\n",
       "      <th id=\"T_5dd32_level0_col1\" class=\"col_heading level0 col1\" >crossover</th>\n",
       "      <th id=\"T_5dd32_level0_col2\" class=\"col_heading level0 col2\" >selection</th>\n",
       "      <th id=\"T_5dd32_level0_col3\" class=\"col_heading level0 col3\" >elitism</th>\n",
       "      <th id=\"T_5dd32_level0_col4\" class=\"col_heading level0 col4\" >last_gen_avg_fitness</th>\n",
       "      <th id=\"T_5dd32_level0_col5\" class=\"col_heading level0 col5\" >solution with highest fitness</th>\n",
       "    </tr>\n",
       "  </thead>\n",
       "  <tbody>\n",
       "    <tr>\n",
       "      <th id=\"T_5dd32_level0_row0\" class=\"row_heading level0 row0\" >0</th>\n",
       "      <td id=\"T_5dd32_row0_col0\" class=\"data row0 col0\" >swap_mutation</td>\n",
       "      <td id=\"T_5dd32_row0_col1\" class=\"data row0 col1\" >one_point_crossover</td>\n",
       "      <td id=\"T_5dd32_row0_col2\" class=\"data row0 col2\" >fitness_proportionate_selection</td>\n",
       "      <td id=\"T_5dd32_row0_col3\" class=\"data row0 col3\" >0</td>\n",
       "      <td id=\"T_5dd32_row0_col4\" class=\"data row0 col4\" >47680.000</td>\n",
       "      <td id=\"T_5dd32_row0_col5\" class=\"data row0 col5\" >Table 0: [31, 32, 46, 47, 53, 60, 61, 63]\n",
       "Table 1: [25, 36, 37, 43, 44, 50, 51, 52]\n",
       "Table 2: [4, 5, 8, 15, 16, 22, 23, 24]\n",
       "Table 3: [21, 27, 28, 29, 30, 33, 48, 59]\n",
       "Table 4: [10, 11, 17, 18, 19, 26, 54, 55]\n",
       "Table 5: [3, 6, 7, 14, 34, 35, 57, 62]\n",
       "Table 6: [9, 20, 38, 39, 40, 41, 42, 56]\n",
       "Table 7: [0, 1, 2, 12, 13, 45, 49, 58]\n",
       "</td>\n",
       "    </tr>\n",
       "    <tr>\n",
       "      <th id=\"T_5dd32_level0_row1\" class=\"row_heading level0 row1\" >1</th>\n",
       "      <td id=\"T_5dd32_row1_col0\" class=\"data row1 col0\" >swap_mutation</td>\n",
       "      <td id=\"T_5dd32_row1_col1\" class=\"data row1 col1\" >one_point_crossover</td>\n",
       "      <td id=\"T_5dd32_row1_col2\" class=\"data row1 col2\" >fitness_proportionate_selection</td>\n",
       "      <td id=\"T_5dd32_row1_col3\" class=\"data row1 col3\" >1</td>\n",
       "      <td id=\"T_5dd32_row1_col4\" class=\"data row1 col4\" >56383.333</td>\n",
       "      <td id=\"T_5dd32_row1_col5\" class=\"data row1 col5\" >Table 0: [36, 37, 43, 44, 45, 49, 50, 51]\n",
       "Table 1: [13, 28, 29, 30, 31, 32, 33, 58]\n",
       "Table 2: [12, 22, 23, 24, 25, 26, 27, 52]\n",
       "Table 3: [48, 53, 55, 59, 60, 61, 62, 63]\n",
       "Table 4: [14, 21, 34, 35, 39, 42, 56, 57]\n",
       "Table 5: [10, 11, 38, 40, 41, 46, 47, 54]\n",
       "Table 6: [4, 5, 15, 16, 17, 18, 19, 20]\n",
       "Table 7: [0, 1, 2, 3, 6, 7, 8, 9]\n",
       "</td>\n",
       "    </tr>\n",
       "  </tbody>\n",
       "</table>\n"
      ],
      "text/plain": [
       "<pandas.io.formats.style.Styler at 0x1321708c0>"
      ]
     },
     "execution_count": 17,
     "metadata": {},
     "output_type": "execute_result"
    }
   ],
   "source": [
    "results_table"
   ]
  }
 ],
 "metadata": {
  "kernelspec": {
   "display_name": "nel_2025_env_full",
   "language": "python",
   "name": "python3"
  },
  "language_info": {
   "codemirror_mode": {
    "name": "ipython",
    "version": 3
   },
   "file_extension": ".py",
   "mimetype": "text/x-python",
   "name": "python",
   "nbconvert_exporter": "python",
   "pygments_lexer": "ipython3",
   "version": "3.12.7"
  }
 },
 "nbformat": 4,
 "nbformat_minor": 5
}
