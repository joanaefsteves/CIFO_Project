{
 "cells": [
  {
   "cell_type": "code",
   "execution_count": 1,
   "id": "9d08f7f6",
   "metadata": {},
   "outputs": [],
   "source": [
    "# General imports\n",
    "import pandas as pd\n",
    "\n",
    "# Grid search\n",
    "from library.genetic_algorithms.grid_search_parallelized import grid_search_par\n",
    "from library.genetic_algorithms.mutation import swap_mutation, inversion_mutation, heuristic_mutation, misfit_mutation\n",
    "from library.genetic_algorithms.crossover import cycle_crossover, one_point_crossover, uniform_crossover, geometric_crossover\n",
    "from library.genetic_algorithms.selection import fitness_proportionate_selection, ranking_selection, tournament_selection"
   ]
  },
  {
   "cell_type": "code",
   "execution_count": 2,
   "id": "daee9637",
   "metadata": {},
   "outputs": [],
   "source": [
    "seating_data= pd.read_csv(\"seating_data.csv\", index_col=0)"
   ]
  },
  {
   "cell_type": "code",
   "execution_count": 3,
   "id": "b867c248",
   "metadata": {},
   "outputs": [],
   "source": [
    "relationships_mtx=seating_data.to_numpy()"
   ]
  },
  {
   "cell_type": "code",
   "execution_count": 4,
   "id": "25652482",
   "metadata": {},
   "outputs": [
    {
     "data": {
      "text/plain": [
       "array([[   0, 5000,    0, ...,    0,    0,    0],\n",
       "       [5000,    0,  700, ...,    0,    0,    0],\n",
       "       [   0,  700,    0, ...,    0,    0,    0],\n",
       "       ...,\n",
       "       [   0,    0,    0, ...,    0,  700,  700],\n",
       "       [   0,    0,    0, ...,  700,    0,  900],\n",
       "       [   0,    0,    0, ...,  700,  900,    0]], shape=(64, 64))"
      ]
     },
     "execution_count": 4,
     "metadata": {},
     "output_type": "execute_result"
    }
   ],
   "source": [
    "relationships_mtx"
   ]
  },
  {
   "cell_type": "markdown",
   "id": "1450a18d",
   "metadata": {},
   "source": [
    "# Experiment with different mutation, crossover and selection methods"
   ]
  },
  {
   "cell_type": "markdown",
   "id": "3db9f0f6",
   "metadata": {},
   "source": [
    "## Fixed hyperparameters:\n",
    "- population size = 100\n",
    "- max generations = 100\n",
    "- crossover probability = 0.9\n",
    "- mutation probability = 0.1\n",
    "- when selection method is tournment: tournment size = 3"
   ]
  },
  {
   "cell_type": "code",
   "execution_count": null,
   "id": "1c57c193",
   "metadata": {},
   "outputs": [],
   "source": [
    "# Testing grid search code \n",
    "\n",
    "results = grid_search_par(\n",
    "    relations_mtx=relationships_mtx,\n",
    "    mutation_functions=[swap_mutation, inversion_mutation, heuristic_mutation, misfit_mutation],\n",
    "    crossover_functions=[cycle_crossover, one_point_crossover, uniform_crossover, geometric_crossover],\n",
    "    selection_functions=[fitness_proportionate_selection, ranking_selection, tournament_selection],\n",
    ")\n",
    "\n",
    "results #results is empty, therefore nothing is printed"
   ]
  },
  {
   "cell_type": "markdown",
   "id": "658671de",
   "metadata": {},
   "source": [
    "Each combination (w/ 30 runs) takes around 6 min.\n",
    "- 48 combinations: 4.8 h."
   ]
  },
  {
   "cell_type": "code",
   "execution_count": null,
   "id": "86cc7891",
   "metadata": {},
   "outputs": [
    {
     "name": "stdout",
     "output_type": "stream",
     "text": [
      "[]\n"
     ]
    },
    {
     "data": {
      "text/html": [
       "<style type=\"text/css\">\n",
       "#T_7d290 th {\n",
       "  text-align: center;\n",
       "}\n",
       "</style>\n",
       "<table id=\"T_7d290\">\n",
       "  <thead>\n",
       "  </thead>\n",
       "  <tbody>\n",
       "  </tbody>\n",
       "</table>\n"
      ],
      "text/plain": [
       "<pandas.io.formats.style.Styler at 0x2941b598740>"
      ]
     },
     "execution_count": 21,
     "metadata": {},
     "output_type": "execute_result"
    }
   ],
   "source": [
    "results_table1 = pd.DataFrame(results).style \\\n",
    "    .format(precision=3) \\\n",
    "    .set_properties(**{\"text-align\": \"center\"}) \\\n",
    "    .set_table_styles([{\n",
    "        \"selector\": \"th\",\n",
    "        \"props\": [(\"text-align\", \"center\")]\n",
    "    }])\n",
    "\n",
    "results_table1"
   ]
  },
  {
   "cell_type": "markdown",
   "id": "2fbfd7bf",
   "metadata": {},
   "source": [
    "# Experiment with different nr of elits for best mutation, crossover and selection method"
   ]
  },
  {
   "cell_type": "code",
   "execution_count": 8,
   "id": "2c8f60ec",
   "metadata": {},
   "outputs": [],
   "source": [
    "results = grid_search_par(\n",
    "    relations_mtx=relationships_mtx,\n",
    "    mutation_functions=[], # add best mutation\n",
    "    crossover_functions=[], # add best crossover\n",
    "    selection_functions=[], # add best selection\n",
    "    elitism=[0, 5]\n",
    ")"
   ]
  },
  {
   "cell_type": "markdown",
   "id": "24a305ad",
   "metadata": {},
   "source": [
    "Each combination (w/ 30 runs) takes around 6 min.\n",
    "- 2 combinations: 12 min."
   ]
  },
  {
   "cell_type": "code",
   "execution_count": 20,
   "id": "4bc0bf41",
   "metadata": {},
   "outputs": [
    {
     "data": {
      "text/html": [
       "<style type=\"text/css\">\n",
       "#T_5a57a th {\n",
       "  text-align: center;\n",
       "}\n",
       "</style>\n",
       "<table id=\"T_5a57a\">\n",
       "  <thead>\n",
       "  </thead>\n",
       "  <tbody>\n",
       "  </tbody>\n",
       "</table>\n"
      ],
      "text/plain": [
       "<pandas.io.formats.style.Styler at 0x2941b577260>"
      ]
     },
     "execution_count": 20,
     "metadata": {},
     "output_type": "execute_result"
    }
   ],
   "source": [
    "results_table2 = pd.DataFrame(results).style \\\n",
    "    .format(precision=3) \\\n",
    "    .set_properties(**{\"text-align\": \"center\"}) \\\n",
    "    .set_table_styles([{\n",
    "        \"selector\": \"th\",\n",
    "        \"props\": [(\"text-align\", \"center\")]\n",
    "    }])\n",
    "\n",
    "results_table2"
   ]
  },
  {
   "cell_type": "markdown",
   "id": "44b6b205",
   "metadata": {},
   "source": [
    "# Plot average fitness per gen "
   ]
  },
  {
   "cell_type": "markdown",
   "id": "e823ffc2",
   "metadata": {},
   "source": [
    "# Performs statistical tests"
   ]
  },
  {
   "cell_type": "markdown",
   "id": "cba5fc06",
   "metadata": {},
   "source": [
    "# Calculate success rate"
   ]
  }
 ],
 "metadata": {
  "kernelspec": {
   "display_name": "Python 3",
   "language": "python",
   "name": "python3"
  },
  "language_info": {
   "codemirror_mode": {
    "name": "ipython",
    "version": 3
   },
   "file_extension": ".py",
   "mimetype": "text/x-python",
   "name": "python",
   "nbconvert_exporter": "python",
   "pygments_lexer": "ipython3",
   "version": "3.12.10"
  }
 },
 "nbformat": 4,
 "nbformat_minor": 5
}
