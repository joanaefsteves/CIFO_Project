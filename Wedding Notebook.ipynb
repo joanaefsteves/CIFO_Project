{
 "cells": [
  {
   "cell_type": "code",
   "execution_count": null,
   "id": "9d08f7f6",
   "metadata": {},
   "outputs": [],
   "source": [
    "import pandas as pd\n",
    "from library.genetic_algorithms.grid_search import grid_search\n",
    "from library.genetic_algorithms.mutation import swap_mutation\n",
    "from library.genetic_algorithms.crossover import one_point_crossover, cycle_crossover\n",
    "from library.genetic_algorithms.selection import fitness_proportionate_selection, ranking_selection, tournament_selection"
   ]
  },
  {
   "cell_type": "code",
   "execution_count": 6,
   "id": "daee9637",
   "metadata": {},
   "outputs": [
    {
     "ename": "AttributeError",
     "evalue": "module 'pandas' has no attribute 'read_csv'",
     "output_type": "error",
     "traceback": [
      "\u001b[0;31m---------------------------------------------------------------------------\u001b[0m",
      "\u001b[0;31mAttributeError\u001b[0m                            Traceback (most recent call last)",
      "Cell \u001b[0;32mIn[6], line 1\u001b[0m\n\u001b[0;32m----> 1\u001b[0m seating_data \u001b[38;5;241m=\u001b[39m pd\u001b[38;5;241m.\u001b[39mread_csv(\u001b[38;5;124m\"\u001b[39m\u001b[38;5;124mseating_data.csv\u001b[39m\u001b[38;5;124m\"\u001b[39m)\n",
      "\u001b[0;31mAttributeError\u001b[0m: module 'pandas' has no attribute 'read_csv'"
     ]
    }
   ],
   "source": [
    "seating_data = pd.read_csv(\"seating_data.csv\")"
   ]
  },
  {
   "cell_type": "code",
   "execution_count": null,
   "id": "88875903",
   "metadata": {},
   "outputs": [],
   "source": []
  },
  {
   "cell_type": "code",
   "execution_count": null,
   "id": "d3418575",
   "metadata": {},
   "outputs": [
    {
     "ename": "NameError",
     "evalue": "name 'seating_data' is not defined",
     "output_type": "error",
     "traceback": [
      "\u001b[0;31m---------------------------------------------------------------------------\u001b[0m",
      "\u001b[0;31mNameError\u001b[0m                                 Traceback (most recent call last)",
      "Cell \u001b[0;32mIn[7], line 1\u001b[0m\n\u001b[0;32m----> 1\u001b[0m relationships_mtx\u001b[38;5;241m=\u001b[39mseating_data\u001b[38;5;241m.\u001b[39mto_numpy()\n",
      "\u001b[0;31mNameError\u001b[0m: name 'seating_data' is not defined"
     ]
    }
   ],
   "source": [
    "relationships_mtx = seating_data.to_numpy()"
   ]
  },
  {
   "cell_type": "code",
   "execution_count": null,
   "id": "b5ac4319",
   "metadata": {},
   "outputs": [],
   "source": [
    "results = grid_search(\n",
    "    relations_mtx=relationships_mtx,\n",
    "    mutation_functions=[swap_mutation],\n",
    "    crossover_functions=[one_point_crossover, cycle_crossover],\n",
    "    selection_functions=[tournament_selection, fitness_proportionate_selection, ranking_selection],\n",
    "    elitism=[0, 5],\n",
    ")"
   ]
  }
 ],
 "metadata": {
  "kernelspec": {
   "display_name": "CIFO_Project_env",
   "language": "python",
   "name": "cifo_project_env"
  },
  "language_info": {
   "codemirror_mode": {
    "name": "ipython",
    "version": 3
   },
   "file_extension": ".py",
   "mimetype": "text/x-python",
   "name": "python",
   "nbconvert_exporter": "python",
   "pygments_lexer": "ipython3",
   "version": "3.12.4"
  }
 },
 "nbformat": 4,
 "nbformat_minor": 5
}
